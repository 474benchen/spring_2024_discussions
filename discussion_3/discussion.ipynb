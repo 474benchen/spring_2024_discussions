{
 "cells": [
  {
   "cell_type": "markdown",
   "id": "9ac70a89",
   "metadata": {
    "slideshow": {
     "slide_type": "skip"
    }
   },
   "source": [
    "**note**: for anyone trying to view this as a slideshow, run 'pip install rise', reload your notebook, then click on the button that looks like a bar graph to the right of the command palette at the top."
   ]
  },
  {
   "cell_type": "code",
   "execution_count": 3,
   "id": "c5694340",
   "metadata": {
    "slideshow": {
     "slide_type": "skip"
    }
   },
   "outputs": [],
   "source": [
    "import pandas as pd"
   ]
  },
  {
   "cell_type": "markdown",
   "id": "0aaa7f3e",
   "metadata": {
    "slideshow": {
     "slide_type": "slide"
    }
   },
   "source": [
    "<center><h1>Discussion 3</h1></center>\n",
    "<center><h2>DSC 20, Spring 2024</h2><center>\n",
    "    \n",
    "<br>\n",
    "<center>Please come up and take a worksheet (if you have an ipad, then the worksheet is already posted in the discussion tab of the calendar). Take 15-20 minutes to complete the questions to the best of your ability, we will go over answers afterwards.</center>"
   ]
  },
  {
   "cell_type": "markdown",
   "id": "ca85ca9b",
   "metadata": {
    "slideshow": {
     "slide_type": "fragment"
    }
   },
   "source": [
    "<center>fat-finger prevention</center>"
   ]
  },
  {
   "cell_type": "code",
   "execution_count": 10,
   "id": "c67ff538",
   "metadata": {
    "slideshow": {
     "slide_type": "slide"
    }
   },
   "outputs": [
    {
     "data": {
      "text/plain": [
       "[1, 2, 3, 4, 5, 6]"
      ]
     },
     "execution_count": 10,
     "metadata": {},
     "output_type": "execute_result"
    }
   ],
   "source": [
    "def list_flatten(lst):\n",
    "    \"\"\"\n",
    "    Function that uses list comp to flatten a 2-dimensional list.\n",
    "    \n",
    "    Args:\n",
    "        lst(list): 2-dimensional list of values\n",
    "    Returns:\n",
    "        a 1-dimensional list.\n",
    "    \n",
    "    >>> list_flatten([[1], [2,3], [4,5,6]])\n",
    "    [1, 2, 3, 4, 5, 6]\n",
    "    \"\"\"\n",
    "    return [val for sub_lst in lst for val in sub_lst]\n",
    "\n",
    "list_flatten([[1], [2,3], [4,5,6]])"
   ]
  },
  {
   "cell_type": "code",
   "execution_count": 18,
   "id": "c5f87d2e",
   "metadata": {
    "slideshow": {
     "slide_type": "slide"
    }
   },
   "outputs": [
    {
     "data": {
      "text/plain": [
       "{'Age': [10, 100, 8, 15, 22], 'Grade': [5, None, 3, 10, 16]}"
      ]
     },
     "execution_count": 18,
     "metadata": {},
     "output_type": "execute_result"
    }
   ],
   "source": [
    "def dataframe_at_home(filepath):\n",
    "    \"\"\"\n",
    "    Function that ingests a CSV file and outputs a dictionary where \n",
    "    keys are column names and values are lists for that column.\n",
    "    \n",
    "    Args:\n",
    "        filepath(str): string for filepath reference\n",
    "    Returns:\n",
    "        a dictionary with values populated according to CSV\n",
    "    \n",
    "    >>> dataframe_at_home('files/data.csv')\n",
    "    {'Age': [10, 100, 8, 15, 22], 'Grade': [5, None, 3, 10, 16]}\n",
    "    \"\"\"\n",
    "    output = {}\n",
    "    with open(filepath, 'r') as f:\n",
    "        column_names = f.readline().strip().split(',')\n",
    "        data = f.readlines()\n",
    "        \n",
    "    for i in range(len(column_names)):\n",
    "        column_data = [eval(x.strip().split(',')[i]) for x in data]\n",
    "        output[column_names[i]] = column_data\n",
    "    return output\n",
    "\n",
    "dataframe_at_home('files/data.csv')"
   ]
  },
  {
   "cell_type": "code",
   "execution_count": 5,
   "id": "6ee2967b",
   "metadata": {
    "slideshow": {
     "slide_type": "fragment"
    }
   },
   "outputs": [
    {
     "data": {
      "text/html": [
       "<div>\n",
       "<style scoped>\n",
       "    .dataframe tbody tr th:only-of-type {\n",
       "        vertical-align: middle;\n",
       "    }\n",
       "\n",
       "    .dataframe tbody tr th {\n",
       "        vertical-align: top;\n",
       "    }\n",
       "\n",
       "    .dataframe thead th {\n",
       "        text-align: right;\n",
       "    }\n",
       "</style>\n",
       "<table border=\"1\" class=\"dataframe\">\n",
       "  <thead>\n",
       "    <tr style=\"text-align: right;\">\n",
       "      <th></th>\n",
       "      <th>Age</th>\n",
       "      <th>Grade</th>\n",
       "    </tr>\n",
       "  </thead>\n",
       "  <tbody>\n",
       "    <tr>\n",
       "      <th>0</th>\n",
       "      <td>10</td>\n",
       "      <td>5</td>\n",
       "    </tr>\n",
       "    <tr>\n",
       "      <th>1</th>\n",
       "      <td>100</td>\n",
       "      <td>None</td>\n",
       "    </tr>\n",
       "    <tr>\n",
       "      <th>2</th>\n",
       "      <td>8</td>\n",
       "      <td>3</td>\n",
       "    </tr>\n",
       "    <tr>\n",
       "      <th>3</th>\n",
       "      <td>15</td>\n",
       "      <td>10</td>\n",
       "    </tr>\n",
       "    <tr>\n",
       "      <th>4</th>\n",
       "      <td>22</td>\n",
       "      <td>16</td>\n",
       "    </tr>\n",
       "  </tbody>\n",
       "</table>\n",
       "</div>"
      ],
      "text/plain": [
       "   Age Grade\n",
       "0   10     5\n",
       "1  100  None\n",
       "2    8     3\n",
       "3   15    10\n",
       "4   22    16"
      ]
     },
     "execution_count": 5,
     "metadata": {},
     "output_type": "execute_result"
    }
   ],
   "source": [
    "pd.read_csv('files/data.csv')"
   ]
  },
  {
   "cell_type": "code",
   "execution_count": 52,
   "id": "bbf762d8",
   "metadata": {
    "slideshow": {
     "slide_type": "slide"
    }
   },
   "outputs": [
    {
     "data": {
      "text/plain": [
       "{'mean': 31.0, 'median': 15, 'min': 8, 'max': 100}"
      ]
     },
     "execution_count": 52,
     "metadata": {},
     "output_type": "execute_result"
    }
   ],
   "source": [
    "def dataframe_describe_at_home(lst):\n",
    "    \"\"\"\n",
    "    Function that calculates basic summary statistics of \n",
    "    a given set of numbers. \n",
    "    \n",
    "    Args:\n",
    "        lst(list): list of numeric values.\n",
    "    Returns:\n",
    "        a dictionary with statistics as keys and results \n",
    "        as associated values.\n",
    "        \n",
    "    >>> dataframe_describe_at_home([10, 100, 8, 15, 22])\n",
    "    {'mean': 31.0, 'median': 15, 'min': 8, 'max': 100}\n",
    "    \"\"\"\n",
    "    mean = sum(lst)/len(lst)\n",
    "    lst.sort()\n",
    "    min_val = lst[0]\n",
    "    max_val = lst[-1]\n",
    "    if len(lst)%2 == 1:\n",
    "        median = lst[len(lst)//2]\n",
    "    else:\n",
    "        median = (lst[(len(lst)//2)-1] + lst[(len(lst)//2)]) / 2\n",
    "    \n",
    "    return {'mean':mean,'median':median,'min':min_val,'max':max_val}\n",
    "dataframe_describe_at_home([10, 100, 8, 15, 22])"
   ]
  },
  {
   "cell_type": "code",
   "execution_count": 6,
   "id": "3b23041b",
   "metadata": {
    "slideshow": {
     "slide_type": "fragment"
    }
   },
   "outputs": [
    {
     "data": {
      "text/html": [
       "<div>\n",
       "<style scoped>\n",
       "    .dataframe tbody tr th:only-of-type {\n",
       "        vertical-align: middle;\n",
       "    }\n",
       "\n",
       "    .dataframe tbody tr th {\n",
       "        vertical-align: top;\n",
       "    }\n",
       "\n",
       "    .dataframe thead th {\n",
       "        text-align: right;\n",
       "    }\n",
       "</style>\n",
       "<table border=\"1\" class=\"dataframe\">\n",
       "  <thead>\n",
       "    <tr style=\"text-align: right;\">\n",
       "      <th></th>\n",
       "      <th>Age</th>\n",
       "    </tr>\n",
       "  </thead>\n",
       "  <tbody>\n",
       "    <tr>\n",
       "      <th>count</th>\n",
       "      <td>5.000000</td>\n",
       "    </tr>\n",
       "    <tr>\n",
       "      <th>mean</th>\n",
       "      <td>31.000000</td>\n",
       "    </tr>\n",
       "    <tr>\n",
       "      <th>std</th>\n",
       "      <td>38.948684</td>\n",
       "    </tr>\n",
       "    <tr>\n",
       "      <th>min</th>\n",
       "      <td>8.000000</td>\n",
       "    </tr>\n",
       "    <tr>\n",
       "      <th>25%</th>\n",
       "      <td>10.000000</td>\n",
       "    </tr>\n",
       "    <tr>\n",
       "      <th>50%</th>\n",
       "      <td>15.000000</td>\n",
       "    </tr>\n",
       "    <tr>\n",
       "      <th>75%</th>\n",
       "      <td>22.000000</td>\n",
       "    </tr>\n",
       "    <tr>\n",
       "      <th>max</th>\n",
       "      <td>100.000000</td>\n",
       "    </tr>\n",
       "  </tbody>\n",
       "</table>\n",
       "</div>"
      ],
      "text/plain": [
       "              Age\n",
       "count    5.000000\n",
       "mean    31.000000\n",
       "std     38.948684\n",
       "min      8.000000\n",
       "25%     10.000000\n",
       "50%     15.000000\n",
       "75%     22.000000\n",
       "max    100.000000"
      ]
     },
     "execution_count": 6,
     "metadata": {},
     "output_type": "execute_result"
    }
   ],
   "source": [
    "pd.read_csv('files/data.csv').describe()"
   ]
  },
  {
   "cell_type": "code",
   "execution_count": 39,
   "id": "4f4478d0",
   "metadata": {
    "slideshow": {
     "slide_type": "slide"
    }
   },
   "outputs": [
    {
     "data": {
      "text/plain": [
       "True"
      ]
     },
     "execution_count": 39,
     "metadata": {},
     "output_type": "execute_result"
    }
   ],
   "source": [
    "def check_input_describe(inputs):\n",
    "    \"\"\"\n",
    "    Function that validates the inputs of dataframe_describe_at_home.\n",
    "    \n",
    "    Args:\n",
    "        inputs (unknown): random inputs to describe\n",
    "    Returns:\n",
    "        True (if all asserts pass)\n",
    "    Raises:\n",
    "        AssertionError if the input is not valid for dataframe_describe_at_home.\n",
    "    >>> check_input_describe([10, 100, 8, 15, 22])\n",
    "    True\n",
    "    \"\"\"\n",
    "    assert isinstance(inputs, list)\n",
    "    assert all([isinstance(x, int) or isinstance(x,float) \\\n",
    "                for x in inputs])\n",
    "    return True\n",
    "\n",
    "check_input_describe([10, 100, 8, 15, 22])"
   ]
  },
  {
   "cell_type": "markdown",
   "id": "da8e7259",
   "metadata": {
    "slideshow": {
     "slide_type": "slide"
    }
   },
   "source": [
    "<center><h2>Meme of the week</h2></center>\n",
    "\n",
    "<center><img src='imgs/meme_dragon.png' width=275></center>"
   ]
  },
  {
   "cell_type": "markdown",
   "id": "c8f91290",
   "metadata": {
    "slideshow": {
     "slide_type": "slide"
    }
   },
   "source": [
    "<center><h2>Agenda</h2></center>\n",
    "<ul>\n",
    "    <li> Homework Autograder </li>\n",
    "    <li> Homework Redemption Policy </li>\n",
    "    <li> <b>Content</b> </li>\n",
    "    <ul>\n",
    "        <li> Dictionaries\n",
    "        <li> Files\n",
    "        <li> Text Processing\n",
    "        <li> List Comprehension\n",
    "        <li> Dictionary Comprehension\n",
    "        <li> Assert Statements\n",
    "    </ul>\n",
    "</ul>"
   ]
  },
  {
   "cell_type": "markdown",
   "id": "1533dd95",
   "metadata": {
    "slideshow": {
     "slide_type": "slide"
    }
   },
   "source": [
    "<center><h2>General Feedback & tips: homework 1</h2></center>\n",
    "\n",
    "- Make sure to save the file (control + S) after making any changes so that you're testing the most recent iteration.\n",
    "- name files without spaces (use \\_) or else you'll regret it (trust me)\n",
    "- your tab key can autocomplete file names (avoids mistypes)\n",
    "- up key will pull up the last command you ran (don't need to keep typing doctests)\n",
    "- Read the instructions carefully for questions and don't skip the instructions at the beginning of homework."
   ]
  },
  {
   "cell_type": "markdown",
   "id": "6d184c5f",
   "metadata": {
    "slideshow": {
     "slide_type": "slide"
    }
   },
   "source": [
    "<center><h2>Homework Autograder</h2></center>\n",
    "<br>\n",
    "<center> PSA: Make sure that your code runs against our autograder after you submit on Gradescope. The autograder has an additional function as the logic check for the code you submit; if it cannot complete running your code, you will get a 0. If your code fails our autograder, make sure to fix your code and resubmit. </center>\n",
    "\n",
    "<u>Cases that may break autograder:</u>\n",
    "- fatal syntax errors\n",
    "- infinite loops"
   ]
  },
  {
   "cell_type": "markdown",
   "id": "87600ea9",
   "metadata": {
    "slideshow": {
     "slide_type": "slide"
    }
   },
   "source": [
    "<center><h2>Homework Redemption Policy</h2></center>\n",
    "<center><img src='imgs/regrade.png' width=800></center>\n",
    "\n",
    "<center> For those who want to fix some basic errors that caused a lot of errors in their homework, refer to Homework Redemption Policy on the course website for more detail </center>"
   ]
  },
  {
   "cell_type": "code",
   "execution_count": null,
   "id": "b59c2eac",
   "metadata": {},
   "outputs": [],
   "source": [
    "\"non-positive\" -> <=0\n",
    "\"non-negative\" -> >=0\n",
    "\"negative\" -> <0\n",
    "\"positive\" -> >0"
   ]
  },
  {
   "cell_type": "markdown",
   "id": "a59f5516",
   "metadata": {
    "slideshow": {
     "slide_type": "slide"
    }
   },
   "source": [
    "<center><h2> Content</h2></center>"
   ]
  },
  {
   "cell_type": "markdown",
   "id": "faf8ff85",
   "metadata": {
    "slideshow": {
     "slide_type": "slide"
    }
   },
   "source": [
    "<center><h3> Dictionaries </h3></center>\n",
    "<ul>\n",
    "    <li> Mutable storage of key, value pairs\n",
    "    <li> Can store any data type, multiple at a time\n",
    "    <li> Elements are acccessed via keys\n",
    "    <li> keys must be <b style = 'color:blue'>hashable</b> and <b style = 'color:blue'>unique</b>\n",
    "</ul>\n",
    "\n",
    "<u> methods </u>\n",
    "- accessing keys (as an iterable) -> dict.keys()\n",
    "- accessing values (as an iterable) -> dict.values()\n",
    "- accessing key,value pairs (as an iterable of tuples) -> dict.items()\n",
    "\n",
    "<center>\n",
    "<b style = 'color:blue'>note</b>: hashablility correlates to the stability of the data - essentially, <b>data that <b style = 'color:blue'>can't</b> change is hashable</b> (int, str, tuple, etc.) while <b>data that <b style = 'color:blue'>can</b> change is not hashable (list, dictionary). Basically, it's all about mutability!</b> </center>"
   ]
  },
  {
   "cell_type": "code",
   "execution_count": 16,
   "id": "0af95681",
   "metadata": {
    "slideshow": {
     "slide_type": "slide"
    }
   },
   "outputs": [
    {
     "data": {
      "text/plain": [
       "-1813396122565167280"
      ]
     },
     "execution_count": 16,
     "metadata": {},
     "output_type": "execute_result"
    }
   ],
   "source": [
    "temp = {}\n",
    "temp['marina langlois'] = 1\n",
    "hash('marina langlois')"
   ]
  },
  {
   "cell_type": "code",
   "execution_count": 17,
   "id": "5105ad56",
   "metadata": {
    "slideshow": {
     "slide_type": "fragment"
    }
   },
   "outputs": [
    {
     "ename": "TypeError",
     "evalue": "unhashable type: 'list'",
     "output_type": "error",
     "traceback": [
      "\u001b[0;31m---------------------------------------------------------------------------\u001b[0m",
      "\u001b[0;31mTypeError\u001b[0m                                 Traceback (most recent call last)",
      "Cell \u001b[0;32mIn[17], line 1\u001b[0m\n\u001b[0;32m----> 1\u001b[0m \u001b[43mtemp\u001b[49m\u001b[43m[\u001b[49m\u001b[43m[\u001b[49m\u001b[38;5;241;43m1\u001b[39;49m\u001b[43m,\u001b[49m\u001b[38;5;241;43m2\u001b[39;49m\u001b[43m,\u001b[49m\u001b[38;5;241;43m3\u001b[39;49m\u001b[43m]\u001b[49m\u001b[43m]\u001b[49m \u001b[38;5;241m=\u001b[39m \u001b[38;5;241m2\u001b[39m\n",
      "\u001b[0;31mTypeError\u001b[0m: unhashable type: 'list'"
     ]
    }
   ],
   "source": [
    "temp[[1,2,3]] = 2"
   ]
  },
  {
   "cell_type": "code",
   "execution_count": 22,
   "id": "7f89cb89",
   "metadata": {
    "slideshow": {
     "slide_type": "fragment"
    }
   },
   "outputs": [
    {
     "name": "stdout",
     "output_type": "stream",
     "text": [
      "marina langlois\n"
     ]
    }
   ],
   "source": [
    "for k,"
   ]
  },
  {
   "cell_type": "code",
   "execution_count": 6,
   "id": "2184107c",
   "metadata": {
    "slideshow": {
     "slide_type": "fragment"
    }
   },
   "outputs": [
    {
     "ename": "TypeError",
     "evalue": "'dict_keys' object is not subscriptable",
     "output_type": "error",
     "traceback": [
      "\u001b[0;31m---------------------------------------------------------------------------\u001b[0m",
      "\u001b[0;31mTypeError\u001b[0m                                 Traceback (most recent call last)",
      "Cell \u001b[0;32mIn[6], line 1\u001b[0m\n\u001b[0;32m----> 1\u001b[0m \u001b[43mtemp\u001b[49m\u001b[38;5;241;43m.\u001b[39;49m\u001b[43mkeys\u001b[49m\u001b[43m(\u001b[49m\u001b[43m)\u001b[49m\u001b[43m[\u001b[49m\u001b[38;5;241;43m0\u001b[39;49m\u001b[43m]\u001b[49m\n",
      "\u001b[0;31mTypeError\u001b[0m: 'dict_keys' object is not subscriptable"
     ]
    }
   ],
   "source": [
    "temp.keys()[0]"
   ]
  },
  {
   "cell_type": "markdown",
   "id": "d3238a8c",
   "metadata": {
    "slideshow": {
     "slide_type": "slide"
    }
   },
   "source": [
    "<center><h3> Files </h3></center>\n",
    "<center>storage for data (think csv's from DSC10, txt's from assignments, etc.)</center>\n",
    "\n",
    "\n",
    "<u> Access Modes </u>\n",
    "\n",
    "<b> Write </b>: 'w' -> every time the file is opened in write mode, the file is wiped. Calling file.write() will add in your data.\n",
    "\n",
    "<b> Append </b>: 'a' -> file.write() will append your data to what existed in the file beforehand.\n",
    "\n",
    "<b> Read </b>: 'r' -> no writing privilege, can only pull the data from the file with relevant methods.\n",
    "\n",
    "<b>note</b>: If you try to open a file in write mode that doesn't exist, python will create it."
   ]
  },
  {
   "cell_type": "code",
   "execution_count": 23,
   "id": "be1bc79e",
   "metadata": {
    "slideshow": {
     "slide_type": "fragment"
    }
   },
   "outputs": [],
   "source": [
    "with open('files/data.txt', 'w') as f:\n",
    "    f.write('Marina Langlois is the DSC20 professor\\nSuraj Rampure is the DSC180A professor')"
   ]
  },
  {
   "cell_type": "markdown",
   "id": "c3abcc98",
   "metadata": {
    "slideshow": {
     "slide_type": "slide"
    }
   },
   "source": [
    "<center><h3>Text Processing</h3></center>\n",
    "\n",
    "<u>reading data</u>:\n",
    "- file.read() -> reads in all the data as a single string\n",
    "- file.readline() -> reads in data line by line (has to be recalled)\n",
    "- file.readlines() -> reads in all the data as a list where each line is another element of the list\n",
    "\n",
    "<center> After reading in the data, you can transform it however you'd like, and then rewrite it back into the file using .write() (if this is relevant).</center>"
   ]
  },
  {
   "cell_type": "code",
   "execution_count": 25,
   "id": "fb4692d5",
   "metadata": {
    "slideshow": {
     "slide_type": "slide"
    }
   },
   "outputs": [
    {
     "name": "stdout",
     "output_type": "stream",
     "text": [
      "the data in the file currently is: \n",
      "Marina Langlois is the DSC20 professor\n",
      "Suraj Rampure is the DSC180A professor\n"
     ]
    }
   ],
   "source": [
    "with open('files/data.txt', 'r') as f:\n",
    "    # notice to read the data, I have to open in 'r' mode first\n",
    "    data = f.read() \n",
    "print(\"the data in the file currently is: \")\n",
    "print(data)"
   ]
  },
  {
   "cell_type": "code",
   "execution_count": 26,
   "id": "88e67ce4",
   "metadata": {
    "slideshow": {
     "slide_type": "fragment"
    }
   },
   "outputs": [
    {
     "name": "stdout",
     "output_type": "stream",
     "text": [
      "the data in the file is now: \n",
      "Marina Langlois is the DSC20 professor\n",
      "Suraj Rampure is the DSC10 professor\n"
     ]
    }
   ],
   "source": [
    "with open('files/data.txt', 'w') as f:\n",
    "    data = data.replace('DSC180A', 'DSC10')\n",
    "    f.write(data)\n",
    "print(\"the data in the file is now: \")\n",
    "with open('files/data.txt', 'r') as f: print(f.read())"
   ]
  },
  {
   "cell_type": "code",
   "execution_count": 7,
   "id": "62807558",
   "metadata": {
    "slideshow": {
     "slide_type": "slide"
    }
   },
   "outputs": [
    {
     "name": "stdout",
     "output_type": "stream",
     "text": [
      "First Name,Last Name\n",
      "Emily,Wilson\n",
      "Jennifer,Sanchez\n",
      "Denise,Ramos\n",
      "Manuel,Barnett\n",
      "Ashley,Hampton\n"
     ]
    }
   ],
   "source": [
    "# how can I ingest the data without the column names?\n",
    "with open('files/names.csv', 'r') as f:\n",
    "    print(f.read())"
   ]
  },
  {
   "cell_type": "code",
   "execution_count": 30,
   "id": "ceb591ff",
   "metadata": {
    "slideshow": {
     "slide_type": "fragment"
    }
   },
   "outputs": [
    {
     "name": "stdout",
     "output_type": "stream",
     "text": [
      "Emily,Wilson\n",
      "Jennifer,Sanchez\n",
      "Denise,Ramos\n",
      "Manuel,Barnett\n",
      "Ashley,Hampton\n"
     ]
    }
   ],
   "source": [
    "with open('files/names.csv', 'r') as f:\n",
    "    f.readline() # use readline to skip the first line\n",
    "    print(f.read())"
   ]
  },
  {
   "cell_type": "markdown",
   "id": "caa2b3eb",
   "metadata": {
    "slideshow": {
     "slide_type": "slide"
    }
   },
   "source": [
    "<center><h3 style = 'color:blue'> Checkpoint </h3></center>\n",
    "\n",
    "<center>What happens when I try to open a file that doesn't exist in read mode?</center>\n",
    "\n",
    "A. Python will create the file\n",
    "\n",
    "B. Nothing\n",
    "\n",
    "C. Error\n",
    "\n",
    "D. idk\n",
    "\n"
   ]
  },
  {
   "cell_type": "markdown",
   "id": "1790784b",
   "metadata": {
    "slideshow": {
     "slide_type": "slide"
    }
   },
   "source": [
    "<center><h3 style = 'color:blue'> Checkpoint Solution </h3></center>"
   ]
  },
  {
   "cell_type": "code",
   "execution_count": 20,
   "id": "350ea6f8",
   "metadata": {
    "slideshow": {
     "slide_type": "fragment"
    }
   },
   "outputs": [],
   "source": [
    "with open('files/nonexistent.txt', 'w') as f:\n",
    "    pass"
   ]
  },
  {
   "cell_type": "code",
   "execution_count": 19,
   "id": "1a5521a3",
   "metadata": {
    "slideshow": {
     "slide_type": "fragment"
    }
   },
   "outputs": [
    {
     "ename": "FileNotFoundError",
     "evalue": "[Errno 2] No such file or directory: 'files/nonexistent.txt'",
     "output_type": "error",
     "traceback": [
      "\u001b[0;31m---------------------------------------------------------------------------\u001b[0m",
      "\u001b[0;31mFileNotFoundError\u001b[0m                         Traceback (most recent call last)",
      "Cell \u001b[0;32mIn[19], line 1\u001b[0m\n\u001b[0;32m----> 1\u001b[0m \u001b[38;5;28;01mwith\u001b[39;00m \u001b[38;5;28;43mopen\u001b[39;49m\u001b[43m(\u001b[49m\u001b[38;5;124;43m'\u001b[39;49m\u001b[38;5;124;43mfiles/nonexistent.txt\u001b[39;49m\u001b[38;5;124;43m'\u001b[39;49m\u001b[43m,\u001b[49m\u001b[43m \u001b[49m\u001b[38;5;124;43m'\u001b[39;49m\u001b[38;5;124;43mr\u001b[39;49m\u001b[38;5;124;43m'\u001b[39;49m\u001b[43m)\u001b[49m \u001b[38;5;28;01mas\u001b[39;00m f:\n\u001b[1;32m      2\u001b[0m     \u001b[38;5;28;01mpass\u001b[39;00m\n",
      "File \u001b[0;32m/opt/anaconda3/envs/tutor/lib/python3.10/site-packages/IPython/core/interactiveshell.py:284\u001b[0m, in \u001b[0;36m_modified_open\u001b[0;34m(file, *args, **kwargs)\u001b[0m\n\u001b[1;32m    277\u001b[0m \u001b[38;5;28;01mif\u001b[39;00m file \u001b[38;5;129;01min\u001b[39;00m {\u001b[38;5;241m0\u001b[39m, \u001b[38;5;241m1\u001b[39m, \u001b[38;5;241m2\u001b[39m}:\n\u001b[1;32m    278\u001b[0m     \u001b[38;5;28;01mraise\u001b[39;00m \u001b[38;5;167;01mValueError\u001b[39;00m(\n\u001b[1;32m    279\u001b[0m         \u001b[38;5;124mf\u001b[39m\u001b[38;5;124m\"\u001b[39m\u001b[38;5;124mIPython won\u001b[39m\u001b[38;5;124m'\u001b[39m\u001b[38;5;124mt let you open fd=\u001b[39m\u001b[38;5;132;01m{\u001b[39;00mfile\u001b[38;5;132;01m}\u001b[39;00m\u001b[38;5;124m by default \u001b[39m\u001b[38;5;124m\"\u001b[39m\n\u001b[1;32m    280\u001b[0m         \u001b[38;5;124m\"\u001b[39m\u001b[38;5;124mas it is likely to crash IPython. If you know what you are doing, \u001b[39m\u001b[38;5;124m\"\u001b[39m\n\u001b[1;32m    281\u001b[0m         \u001b[38;5;124m\"\u001b[39m\u001b[38;5;124myou can use builtins\u001b[39m\u001b[38;5;124m'\u001b[39m\u001b[38;5;124m open.\u001b[39m\u001b[38;5;124m\"\u001b[39m\n\u001b[1;32m    282\u001b[0m     )\n\u001b[0;32m--> 284\u001b[0m \u001b[38;5;28;01mreturn\u001b[39;00m \u001b[43mio_open\u001b[49m\u001b[43m(\u001b[49m\u001b[43mfile\u001b[49m\u001b[43m,\u001b[49m\u001b[43m \u001b[49m\u001b[38;5;241;43m*\u001b[39;49m\u001b[43margs\u001b[49m\u001b[43m,\u001b[49m\u001b[43m \u001b[49m\u001b[38;5;241;43m*\u001b[39;49m\u001b[38;5;241;43m*\u001b[39;49m\u001b[43mkwargs\u001b[49m\u001b[43m)\u001b[49m\n",
      "\u001b[0;31mFileNotFoundError\u001b[0m: [Errno 2] No such file or directory: 'files/nonexistent.txt'"
     ]
    }
   ],
   "source": [
    "with open('files/nonexistent.txt', 'r') as f:\n",
    "    pass"
   ]
  },
  {
   "cell_type": "markdown",
   "id": "7f9f3ccb",
   "metadata": {
    "slideshow": {
     "slide_type": "slide"
    }
   },
   "source": [
    "<center><h3> List Comprehension </h3> </center>\n",
    "<ul>\n",
    "    <li> Fancy, shorthand method of writing for loops\n",
    "    <li> Syntax changes depending on use case\n",
    "    <li> can be nested in each other, just like lists\n",
    "    <li> Can contain multiple for loops in one list comp\n",
    "    <li> Can also be a nested loop\n",
    "        \n",
    "<br>\n",
    "<b style='color:blue'>Syntax</b>\n",
    "<ul>\n",
    "    <li> [x for x in iterable]\n",
    "    <li> [x for x in iterable if (condition)]\n",
    "    <li> [x if (condition) else y for x in iterable]\n",
    "    <li> [x for sub_val in iterable for x in sub_val]"
   ]
  },
  {
   "cell_type": "code",
   "execution_count": 15,
   "id": "3d7a2fb5",
   "metadata": {
    "slideshow": {
     "slide_type": "slide"
    }
   },
   "outputs": [
    {
     "data": {
      "text/plain": [
       "['Emily,Wilson\\n',\n",
       " 'Jennifer,Sanchez\\n',\n",
       " 'Denise,Ramos\\n',\n",
       " 'Manuel,Barnett\\n',\n",
       " 'Ashley,Hampton']"
      ]
     },
     "execution_count": 15,
     "metadata": {},
     "output_type": "execute_result"
    }
   ],
   "source": [
    "with open('files/names.csv', 'r') as f:\n",
    "    f.readline() # use readline to skip the first line\n",
    "    data = f.readlines()\n",
    "data"
   ]
  },
  {
   "cell_type": "code",
   "execution_count": 16,
   "id": "dc0cb423",
   "metadata": {
    "slideshow": {
     "slide_type": "fragment"
    }
   },
   "outputs": [
    {
     "data": {
      "text/plain": [
       "['Jennifer,Sanchez', 'Denise,Ramos', 'Manuel,Barnett', 'Ashley,Hampton']"
      ]
     },
     "execution_count": 16,
     "metadata": {},
     "output_type": "execute_result"
    }
   ],
   "source": [
    "# If I want to remove the newline from the previous output\n",
    "data = [name.strip() for name in data[1:]]\n",
    "data"
   ]
  },
  {
   "cell_type": "code",
   "execution_count": 17,
   "id": "65b6ebc0",
   "metadata": {
    "slideshow": {
     "slide_type": "slide"
    }
   },
   "outputs": [
    {
     "data": {
      "text/plain": [
       "[2, 4, 6, 8]"
      ]
     },
     "execution_count": 17,
     "metadata": {},
     "output_type": "execute_result"
    }
   ],
   "source": [
    "data= [[1,2], [3,4]]\n",
    "\n",
    "[x*2 for lst in data for x in lst]"
   ]
  },
  {
   "cell_type": "code",
   "execution_count": 18,
   "id": "6dd89f1a",
   "metadata": {
    "slideshow": {
     "slide_type": "fragment"
    }
   },
   "outputs": [
    {
     "data": {
      "text/plain": [
       "[2, 4, 6, 8]"
      ]
     },
     "execution_count": 18,
     "metadata": {},
     "output_type": "execute_result"
    }
   ],
   "source": [
    "output = []\n",
    "for lst in data:\n",
    "    for x in lst:\n",
    "        output.append(x*2)\n",
    "output"
   ]
  },
  {
   "cell_type": "markdown",
   "id": "a9c406f2",
   "metadata": {
    "slideshow": {
     "slide_type": "slide"
    }
   },
   "source": [
    "<center><h3 style = 'color:blue'> Checkpoint </h3></center>\n",
    "\n",
    "<center>What is the result of the following list comp?</center>"
   ]
  },
  {
   "cell_type": "code",
   "execution_count": null,
   "id": "a90cb3ce",
   "metadata": {
    "slideshow": {
     "slide_type": "fragment"
    }
   },
   "outputs": [],
   "source": [
    "[(x*2, x**2) for x in range(0,10) if (x**2) % 2 == 1]"
   ]
  },
  {
   "cell_type": "markdown",
   "id": "b8ef1718",
   "metadata": {
    "slideshow": {
     "slide_type": "fragment"
    }
   },
   "source": [
    "A.[(0, 0), (2, 1), (4, 4), (6, 9), (8, 16), (10, 25), (12, 36), (14, 49), (16, 64), (18, 81)]\n",
    "\n",
    "B. [(0, 0), (4, 4), (8, 16), (12, 36), (16, 64)]\n",
    "\n",
    "C. [(2, 1), (6, 9), (10, 25), (14, 49), (18, 81)]\n",
    "\n",
    "D. []"
   ]
  },
  {
   "cell_type": "markdown",
   "id": "10227eb1",
   "metadata": {
    "slideshow": {
     "slide_type": "slide"
    }
   },
   "source": [
    "<center><h3 style = 'color:blue'> Checkpoint Solution </h3></center>"
   ]
  },
  {
   "cell_type": "code",
   "execution_count": 20,
   "id": "adf22e0d",
   "metadata": {
    "slideshow": {
     "slide_type": "fragment"
    }
   },
   "outputs": [
    {
     "data": {
      "text/plain": [
       "[(2, 1), (6, 9), (10, 25), (14, 49), (18, 81)]"
      ]
     },
     "execution_count": 20,
     "metadata": {},
     "output_type": "execute_result"
    }
   ],
   "source": [
    "# C\n",
    "[(x*2, x**2) for x in range(0,10) if (x**2) % 2 == 1]"
   ]
  },
  {
   "cell_type": "markdown",
   "id": "789def9c",
   "metadata": {
    "slideshow": {
     "slide_type": "slide"
    }
   },
   "source": [
    "<center><h3>Dictionary Comprehension</h3></center>\n",
    "\n",
    "<ul>\n",
    "    <li> Fancy, shorthand method of populating dictionaries\n",
    "    <li> Syntax changes depending on use case\n",
    "</ul>\n",
    "\n",
    "<b style='color:blue'>Syntax</b>\n",
    "\n",
    "- basically the same as list comp, but now it expects key:value\n",
    "- can include a list comp!"
   ]
  },
  {
   "cell_type": "code",
   "execution_count": 20,
   "id": "f1ac45e1",
   "metadata": {
    "slideshow": {
     "slide_type": "fragment"
    }
   },
   "outputs": [
    {
     "data": {
      "text/plain": [
       "{'Emily': 'Wilson',\n",
       " 'Jennifer': 'Sanchez',\n",
       " 'Denise': 'Ramos',\n",
       " 'Manuel': 'Barnett',\n",
       " 'Ashley': 'Hampton'}"
      ]
     },
     "execution_count": 20,
     "metadata": {},
     "output_type": "execute_result"
    }
   ],
   "source": [
    "# If I want to now create a dictionary of first name:last name\n",
    "{x.split(',')[0]:x.split(',')[1] for x in data}"
   ]
  },
  {
   "cell_type": "markdown",
   "id": "136dfa8d",
   "metadata": {
    "slideshow": {
     "slide_type": "slide"
    }
   },
   "source": [
    "<center><h3 style = 'color:blue'> Checkpoint </h3></center>\n",
    "\n",
    "<center>What is the result of the following dict comp?</center>"
   ]
  },
  {
   "cell_type": "code",
   "execution_count": null,
   "id": "5dc634f3",
   "metadata": {
    "slideshow": {
     "slide_type": "fragment"
    }
   },
   "outputs": [],
   "source": [
    "{x:[x + 2 for x in range(x)] for x in range(0,5) if x%2==0}"
   ]
  },
  {
   "cell_type": "markdown",
   "id": "0050536a",
   "metadata": {
    "slideshow": {
     "slide_type": "fragment"
    }
   },
   "source": [
    "A. {0: [], 2: [2, 3], 4: [2, 3, 4, 5]}\n",
    "\n",
    "B. {1: [2], 3: [2, 3, 4], 5: [2, 3, 4, 5, 6]}\n",
    "\n",
    "C. {}"
   ]
  },
  {
   "cell_type": "markdown",
   "id": "9332b05e",
   "metadata": {
    "slideshow": {
     "slide_type": "slide"
    }
   },
   "source": [
    "<center><h3 style = 'color:blue'> Checkpoint Solution </h3></center>"
   ]
  },
  {
   "cell_type": "code",
   "execution_count": 13,
   "id": "52188ded",
   "metadata": {
    "slideshow": {
     "slide_type": "fragment"
    }
   },
   "outputs": [
    {
     "data": {
      "text/plain": [
       "{0: [], 2: [2, 3], 4: [2, 3, 4, 5]}"
      ]
     },
     "execution_count": 13,
     "metadata": {},
     "output_type": "execute_result"
    }
   ],
   "source": [
    "{x:[x + 2 for x in range(x)] for x in range(0,5) if x%2==0}"
   ]
  },
  {
   "cell_type": "markdown",
   "id": "bbc539bf",
   "metadata": {
    "slideshow": {
     "slide_type": "slide"
    }
   },
   "source": [
    "<center><h3>Assert Statements</h3></center>\n",
    "<ul>\n",
    "    <li> Used to evaluate written code\n",
    "    <li> <b style='color:blue'>asserts</b> -> input validation (are the arguments the correct types?)\n",
    "    <li> Often combined with boolean functions (any(), all(), etc.)"
   ]
  },
  {
   "cell_type": "code",
   "execution_count": 32,
   "id": "110f0106",
   "metadata": {
    "slideshow": {
     "slide_type": "fragment"
    }
   },
   "outputs": [],
   "source": [
    "def check_inputs(lst, word, number):\n",
    "    assert isinstance(lst, list)\n",
    "    assert isinstance(word, str)\n",
    "    assert isinstance(number,int)"
   ]
  },
  {
   "cell_type": "code",
   "execution_count": 33,
   "id": "a32738f5",
   "metadata": {
    "slideshow": {
     "slide_type": "fragment"
    }
   },
   "outputs": [],
   "source": [
    "check_inputs([], 'a', 2)"
   ]
  },
  {
   "cell_type": "code",
   "execution_count": 36,
   "id": "5b5c43c0",
   "metadata": {
    "slideshow": {
     "slide_type": "fragment"
    }
   },
   "outputs": [],
   "source": [
    "check_inputs([], 'a', 2)"
   ]
  },
  {
   "cell_type": "markdown",
   "id": "1ac372d6",
   "metadata": {
    "slideshow": {
     "slide_type": "slide"
    }
   },
   "source": [
    "<center><h3 style = 'color:blue'> Checkpoint </h3></center>\n",
    "\n",
    "<center>Given the following  code, select the incorrect assert statement</center>"
   ]
  },
  {
   "cell_type": "code",
   "execution_count": 12,
   "id": "335d1b04",
   "metadata": {
    "slideshow": {
     "slide_type": "fragment"
    }
   },
   "outputs": [
    {
     "data": {
      "text/plain": [
       "['a', 'b', 'c']"
      ]
     },
     "execution_count": 12,
     "metadata": {},
     "output_type": "execute_result"
    }
   ],
   "source": [
    "def foo(input_lst):\n",
    "    \"\"\"\n",
    "    function to flatten a nested list of strings.\n",
    "    \n",
    "    Args:\n",
    "        input_lst (list): nested list of strings\n",
    "    Returns:\n",
    "        a \"flattened\" list.\n",
    "    \"\"\"\n",
    "    return [x for lst in input_lst for x in lst]\n",
    "foo([['a'], ['b'], ['c']])"
   ]
  },
  {
   "cell_type": "markdown",
   "id": "d6d01e8e",
   "metadata": {
    "slideshow": {
     "slide_type": "fragment"
    }
   },
   "source": [
    "A. assert isinstance(input_lst, list)\n",
    "\n",
    "B. assert all([isinstance(lst, list) for lst in input_lst])\n",
    "\n",
    "C. assert all([isinstance(x, str) for x in input_lst])\n",
    "\n",
    "D. assert all([isinstance(x, str) for lst in input_lst for x in lst])"
   ]
  },
  {
   "cell_type": "markdown",
   "id": "4ffb04b3",
   "metadata": {
    "slideshow": {
     "slide_type": "slide"
    }
   },
   "source": [
    "<center><h3 style = 'color:blue'> Checkpoint Solution </h3></center>"
   ]
  },
  {
   "cell_type": "code",
   "execution_count": 28,
   "id": "19d587a1",
   "metadata": {
    "slideshow": {
     "slide_type": "fragment"
    }
   },
   "outputs": [],
   "source": [
    "# C\n",
    "input_lst = [['a'], ['b'], ['c']]"
   ]
  },
  {
   "cell_type": "code",
   "execution_count": 24,
   "id": "c097ff16",
   "metadata": {
    "slideshow": {
     "slide_type": "fragment"
    }
   },
   "outputs": [],
   "source": [
    "assert isinstance(input_lst, list)"
   ]
  },
  {
   "cell_type": "code",
   "execution_count": 25,
   "id": "5ea60975",
   "metadata": {
    "slideshow": {
     "slide_type": "fragment"
    }
   },
   "outputs": [],
   "source": [
    "assert all([isinstance(lst, list) for lst in input_lst])"
   ]
  },
  {
   "cell_type": "code",
   "execution_count": 26,
   "id": "1d18e3db",
   "metadata": {
    "slideshow": {
     "slide_type": "fragment"
    }
   },
   "outputs": [],
   "source": [
    "assert all([isinstance(x, str) for lst in input_lst for x in lst])"
   ]
  },
  {
   "cell_type": "code",
   "execution_count": 27,
   "id": "96262123",
   "metadata": {
    "slideshow": {
     "slide_type": "fragment"
    }
   },
   "outputs": [
    {
     "ename": "AssertionError",
     "evalue": "",
     "output_type": "error",
     "traceback": [
      "\u001b[0;31m---------------------------------------------------------------------------\u001b[0m",
      "\u001b[0;31mAssertionError\u001b[0m                            Traceback (most recent call last)",
      "Cell \u001b[0;32mIn[27], line 1\u001b[0m\n\u001b[0;32m----> 1\u001b[0m \u001b[38;5;28;01massert\u001b[39;00m \u001b[38;5;28mall\u001b[39m([\u001b[38;5;28misinstance\u001b[39m(x, \u001b[38;5;28mstr\u001b[39m) \u001b[38;5;28;01mfor\u001b[39;00m x \u001b[38;5;129;01min\u001b[39;00m input_lst])\n",
      "\u001b[0;31mAssertionError\u001b[0m: "
     ]
    }
   ],
   "source": [
    "assert all([isinstance(x, str) for x in input_lst])"
   ]
  },
  {
   "cell_type": "markdown",
   "id": "49030538",
   "metadata": {
    "slideshow": {
     "slide_type": "slide"
    }
   },
   "source": [
    "<center> <h1>Thanks for coming!</h1></center>"
   ]
  },
  {
   "cell_type": "code",
   "execution_count": null,
   "id": "1e60d5be",
   "metadata": {
    "slideshow": {
     "slide_type": "skip"
    }
   },
   "outputs": [],
   "source": []
  }
 ],
 "metadata": {
  "celltoolbar": "Slideshow",
  "kernelspec": {
   "display_name": "Python 3 (ipykernel)",
   "language": "python",
   "name": "python3"
  },
  "language_info": {
   "codemirror_mode": {
    "name": "ipython",
    "version": 3
   },
   "file_extension": ".py",
   "mimetype": "text/x-python",
   "name": "python",
   "nbconvert_exporter": "python",
   "pygments_lexer": "ipython3",
   "version": "3.10.8"
  },
  "rise": {
   "enable_chalkboard": true
  }
 },
 "nbformat": 4,
 "nbformat_minor": 5
}
